{
  "nbformat": 4,
  "nbformat_minor": 0,
  "metadata": {
    "colab": {
      "provenance": [],
      "gpuType": "T4"
    },
    "kernelspec": {
      "name": "python3",
      "display_name": "Python 3"
    },
    "language_info": {
      "name": "python"
    },
    "accelerator": "GPU",
    "gpuClass": "standard"
  },
  "cells": [
    {
      "cell_type": "markdown",
      "source": [
        "Use two RNN models (one with simple vanilla RNN cells, other with GRU cells) to predict the temperature 1 hour into the future given the past 12 hours:\n",
        "\n",
        "https://keras.io/api/layers/recurrent_layers/simple_rnn/\n",
        "\n",
        "https://keras.io/api/layers/recurrent_layers/gru/"
      ],
      "metadata": {
        "id": "tGrJK8NkIih2"
      }
    },
    {
      "cell_type": "markdown",
      "source": [
        "- In this task you're required to split the data into training, validation and test. [2 points]\n",
        "-Use the test set to test the generalization error of your models.[3 points each] \n",
        "- Use mean absolute error as an evaluation metric [1 point]\n",
        "- Compare the performance of the two models and comment on the results [1 points]\n",
        "- At least one of them MUST contain more than a single RNN layer; {Hint: check return_sequence parameter in the RNN layers documentation to help you in that.}\n",
        "##Bonus[2 point]\n",
        "- Predict the test set, and plot a predicted 500-1000 labels vs. the actual labels."
      ],
      "metadata": {
        "id": "FMBKyI9VQ7N4"
      }
    },
    {
      "cell_type": "markdown",
      "source": [
        "# import "
      ],
      "metadata": {
        "id": "jAdfB9hg5PmV"
      }
    },
    {
      "cell_type": "code",
      "source": [
        "import matplotlib.pyplot as plt\n",
        "import numpy as np\n",
        "import pandas as pd\n",
        "import seaborn as sns\n",
        "import tensorflow as tf\n",
        "from tensorflow import keras\n",
        "from zipfile import ZipFile"
      ],
      "metadata": {
        "id": "LXAxydkQRlj6"
      },
      "execution_count": null,
      "outputs": []
    },
    {
      "cell_type": "code",
      "execution_count": null,
      "metadata": {
        "id": "XzbQwcKZP_pN"
      },
      "outputs": [],
      "source": [
        "#get the dataset\n",
        "uri = \"https://storage.googleapis.com/tensorflow/tf-keras-datasets/jena_climate_2009_2016.csv.zip\"\n",
        "zip_path = keras.utils.get_file(origin=uri, fname=\"jena_climate_2009_2016.csv.zip\")\n",
        "zip_file = ZipFile(zip_path)\n",
        "zip_file.extractall()\n",
        "csv_path = \"jena_climate_2009_2016.csv\""
      ]
    },
    {
      "cell_type": "markdown",
      "source": [
        "# preproccesing"
      ],
      "metadata": {
        "id": "b9FCsz3t5atD"
      }
    },
    {
      "cell_type": "code",
      "source": [
        "df = pd.read_csv(csv_path)\n",
        "df=df.drop(columns=['Date Time','Tpot (K)','Tdew (degC)','wd (deg)','max. wv (m/s)'])\n",
        "df.describe()"
      ],
      "metadata": {
        "colab": {
          "base_uri": "https://localhost:8080/",
          "height": 381
        },
        "id": "P90xYaFgSBdl",
        "outputId": "01d9bfc3-4535-4eb3-910f-5bf03951cee1"
      },
      "execution_count": null,
      "outputs": [
        {
          "output_type": "execute_result",
          "data": {
            "text/plain": [
              "            p (mbar)       T (degC)         rh (%)   VPmax (mbar)  \\\n",
              "count  420551.000000  420551.000000  420551.000000  420551.000000   \n",
              "mean      989.212776       9.450147      76.008259      13.576251   \n",
              "std         8.358481       8.423365      16.476175       7.739020   \n",
              "min       913.600000     -23.010000      12.950000       0.950000   \n",
              "25%       984.200000       3.360000      65.210000       7.780000   \n",
              "50%       989.580000       9.420000      79.300000      11.820000   \n",
              "75%       994.720000      15.470000      89.400000      17.600000   \n",
              "max      1015.350000      37.280000     100.000000      63.770000   \n",
              "\n",
              "        VPact (mbar)   VPdef (mbar)      sh (g/kg)  H2OC (mmol/mol)  \\\n",
              "count  420551.000000  420551.000000  420551.000000    420551.000000   \n",
              "mean        9.533756       4.042412       6.022408         9.640223   \n",
              "std         4.184164       4.896851       2.656139         4.235395   \n",
              "min         0.790000       0.000000       0.500000         0.800000   \n",
              "25%         6.210000       0.870000       3.920000         6.290000   \n",
              "50%         8.860000       2.190000       5.590000         8.960000   \n",
              "75%        12.350000       5.300000       7.800000        12.490000   \n",
              "max        28.320000      46.010000      18.130000        28.820000   \n",
              "\n",
              "        rho (g/m**3)       wv (m/s)  \n",
              "count  420551.000000  420551.000000  \n",
              "mean     1216.062748       1.702224  \n",
              "std        39.975208      65.446714  \n",
              "min      1059.450000   -9999.000000  \n",
              "25%      1187.490000       0.990000  \n",
              "50%      1213.790000       1.760000  \n",
              "75%      1242.770000       2.860000  \n",
              "max      1393.540000      28.490000  "
            ],
            "text/html": [
              "\n",
              "  <div id=\"df-44eb8f7d-657f-4440-8f66-c8727aa67f5b\">\n",
              "    <div class=\"colab-df-container\">\n",
              "      <div>\n",
              "<style scoped>\n",
              "    .dataframe tbody tr th:only-of-type {\n",
              "        vertical-align: middle;\n",
              "    }\n",
              "\n",
              "    .dataframe tbody tr th {\n",
              "        vertical-align: top;\n",
              "    }\n",
              "\n",
              "    .dataframe thead th {\n",
              "        text-align: right;\n",
              "    }\n",
              "</style>\n",
              "<table border=\"1\" class=\"dataframe\">\n",
              "  <thead>\n",
              "    <tr style=\"text-align: right;\">\n",
              "      <th></th>\n",
              "      <th>p (mbar)</th>\n",
              "      <th>T (degC)</th>\n",
              "      <th>rh (%)</th>\n",
              "      <th>VPmax (mbar)</th>\n",
              "      <th>VPact (mbar)</th>\n",
              "      <th>VPdef (mbar)</th>\n",
              "      <th>sh (g/kg)</th>\n",
              "      <th>H2OC (mmol/mol)</th>\n",
              "      <th>rho (g/m**3)</th>\n",
              "      <th>wv (m/s)</th>\n",
              "    </tr>\n",
              "  </thead>\n",
              "  <tbody>\n",
              "    <tr>\n",
              "      <th>count</th>\n",
              "      <td>420551.000000</td>\n",
              "      <td>420551.000000</td>\n",
              "      <td>420551.000000</td>\n",
              "      <td>420551.000000</td>\n",
              "      <td>420551.000000</td>\n",
              "      <td>420551.000000</td>\n",
              "      <td>420551.000000</td>\n",
              "      <td>420551.000000</td>\n",
              "      <td>420551.000000</td>\n",
              "      <td>420551.000000</td>\n",
              "    </tr>\n",
              "    <tr>\n",
              "      <th>mean</th>\n",
              "      <td>989.212776</td>\n",
              "      <td>9.450147</td>\n",
              "      <td>76.008259</td>\n",
              "      <td>13.576251</td>\n",
              "      <td>9.533756</td>\n",
              "      <td>4.042412</td>\n",
              "      <td>6.022408</td>\n",
              "      <td>9.640223</td>\n",
              "      <td>1216.062748</td>\n",
              "      <td>1.702224</td>\n",
              "    </tr>\n",
              "    <tr>\n",
              "      <th>std</th>\n",
              "      <td>8.358481</td>\n",
              "      <td>8.423365</td>\n",
              "      <td>16.476175</td>\n",
              "      <td>7.739020</td>\n",
              "      <td>4.184164</td>\n",
              "      <td>4.896851</td>\n",
              "      <td>2.656139</td>\n",
              "      <td>4.235395</td>\n",
              "      <td>39.975208</td>\n",
              "      <td>65.446714</td>\n",
              "    </tr>\n",
              "    <tr>\n",
              "      <th>min</th>\n",
              "      <td>913.600000</td>\n",
              "      <td>-23.010000</td>\n",
              "      <td>12.950000</td>\n",
              "      <td>0.950000</td>\n",
              "      <td>0.790000</td>\n",
              "      <td>0.000000</td>\n",
              "      <td>0.500000</td>\n",
              "      <td>0.800000</td>\n",
              "      <td>1059.450000</td>\n",
              "      <td>-9999.000000</td>\n",
              "    </tr>\n",
              "    <tr>\n",
              "      <th>25%</th>\n",
              "      <td>984.200000</td>\n",
              "      <td>3.360000</td>\n",
              "      <td>65.210000</td>\n",
              "      <td>7.780000</td>\n",
              "      <td>6.210000</td>\n",
              "      <td>0.870000</td>\n",
              "      <td>3.920000</td>\n",
              "      <td>6.290000</td>\n",
              "      <td>1187.490000</td>\n",
              "      <td>0.990000</td>\n",
              "    </tr>\n",
              "    <tr>\n",
              "      <th>50%</th>\n",
              "      <td>989.580000</td>\n",
              "      <td>9.420000</td>\n",
              "      <td>79.300000</td>\n",
              "      <td>11.820000</td>\n",
              "      <td>8.860000</td>\n",
              "      <td>2.190000</td>\n",
              "      <td>5.590000</td>\n",
              "      <td>8.960000</td>\n",
              "      <td>1213.790000</td>\n",
              "      <td>1.760000</td>\n",
              "    </tr>\n",
              "    <tr>\n",
              "      <th>75%</th>\n",
              "      <td>994.720000</td>\n",
              "      <td>15.470000</td>\n",
              "      <td>89.400000</td>\n",
              "      <td>17.600000</td>\n",
              "      <td>12.350000</td>\n",
              "      <td>5.300000</td>\n",
              "      <td>7.800000</td>\n",
              "      <td>12.490000</td>\n",
              "      <td>1242.770000</td>\n",
              "      <td>2.860000</td>\n",
              "    </tr>\n",
              "    <tr>\n",
              "      <th>max</th>\n",
              "      <td>1015.350000</td>\n",
              "      <td>37.280000</td>\n",
              "      <td>100.000000</td>\n",
              "      <td>63.770000</td>\n",
              "      <td>28.320000</td>\n",
              "      <td>46.010000</td>\n",
              "      <td>18.130000</td>\n",
              "      <td>28.820000</td>\n",
              "      <td>1393.540000</td>\n",
              "      <td>28.490000</td>\n",
              "    </tr>\n",
              "  </tbody>\n",
              "</table>\n",
              "</div>\n",
              "      <button class=\"colab-df-convert\" onclick=\"convertToInteractive('df-44eb8f7d-657f-4440-8f66-c8727aa67f5b')\"\n",
              "              title=\"Convert this dataframe to an interactive table.\"\n",
              "              style=\"display:none;\">\n",
              "        \n",
              "  <svg xmlns=\"http://www.w3.org/2000/svg\" height=\"24px\"viewBox=\"0 0 24 24\"\n",
              "       width=\"24px\">\n",
              "    <path d=\"M0 0h24v24H0V0z\" fill=\"none\"/>\n",
              "    <path d=\"M18.56 5.44l.94 2.06.94-2.06 2.06-.94-2.06-.94-.94-2.06-.94 2.06-2.06.94zm-11 1L8.5 8.5l.94-2.06 2.06-.94-2.06-.94L8.5 2.5l-.94 2.06-2.06.94zm10 10l.94 2.06.94-2.06 2.06-.94-2.06-.94-.94-2.06-.94 2.06-2.06.94z\"/><path d=\"M17.41 7.96l-1.37-1.37c-.4-.4-.92-.59-1.43-.59-.52 0-1.04.2-1.43.59L10.3 9.45l-7.72 7.72c-.78.78-.78 2.05 0 2.83L4 21.41c.39.39.9.59 1.41.59.51 0 1.02-.2 1.41-.59l7.78-7.78 2.81-2.81c.8-.78.8-2.07 0-2.86zM5.41 20L4 18.59l7.72-7.72 1.47 1.35L5.41 20z\"/>\n",
              "  </svg>\n",
              "      </button>\n",
              "      \n",
              "  <style>\n",
              "    .colab-df-container {\n",
              "      display:flex;\n",
              "      flex-wrap:wrap;\n",
              "      gap: 12px;\n",
              "    }\n",
              "\n",
              "    .colab-df-convert {\n",
              "      background-color: #E8F0FE;\n",
              "      border: none;\n",
              "      border-radius: 50%;\n",
              "      cursor: pointer;\n",
              "      display: none;\n",
              "      fill: #1967D2;\n",
              "      height: 32px;\n",
              "      padding: 0 0 0 0;\n",
              "      width: 32px;\n",
              "    }\n",
              "\n",
              "    .colab-df-convert:hover {\n",
              "      background-color: #E2EBFA;\n",
              "      box-shadow: 0px 1px 2px rgba(60, 64, 67, 0.3), 0px 1px 3px 1px rgba(60, 64, 67, 0.15);\n",
              "      fill: #174EA6;\n",
              "    }\n",
              "\n",
              "    [theme=dark] .colab-df-convert {\n",
              "      background-color: #3B4455;\n",
              "      fill: #D2E3FC;\n",
              "    }\n",
              "\n",
              "    [theme=dark] .colab-df-convert:hover {\n",
              "      background-color: #434B5C;\n",
              "      box-shadow: 0px 1px 3px 1px rgba(0, 0, 0, 0.15);\n",
              "      filter: drop-shadow(0px 1px 2px rgba(0, 0, 0, 0.3));\n",
              "      fill: #FFFFFF;\n",
              "    }\n",
              "  </style>\n",
              "\n",
              "      <script>\n",
              "        const buttonEl =\n",
              "          document.querySelector('#df-44eb8f7d-657f-4440-8f66-c8727aa67f5b button.colab-df-convert');\n",
              "        buttonEl.style.display =\n",
              "          google.colab.kernel.accessAllowed ? 'block' : 'none';\n",
              "\n",
              "        async function convertToInteractive(key) {\n",
              "          const element = document.querySelector('#df-44eb8f7d-657f-4440-8f66-c8727aa67f5b');\n",
              "          const dataTable =\n",
              "            await google.colab.kernel.invokeFunction('convertToInteractive',\n",
              "                                                     [key], {});\n",
              "          if (!dataTable) return;\n",
              "\n",
              "          const docLinkHtml = 'Like what you see? Visit the ' +\n",
              "            '<a target=\"_blank\" href=https://colab.research.google.com/notebooks/data_table.ipynb>data table notebook</a>'\n",
              "            + ' to learn more about interactive tables.';\n",
              "          element.innerHTML = '';\n",
              "          dataTable['output_type'] = 'display_data';\n",
              "          await google.colab.output.renderOutput(dataTable, element);\n",
              "          const docLink = document.createElement('div');\n",
              "          docLink.innerHTML = docLinkHtml;\n",
              "          element.appendChild(docLink);\n",
              "        }\n",
              "      </script>\n",
              "    </div>\n",
              "  </div>\n",
              "  "
            ]
          },
          "metadata": {},
          "execution_count": 129
        }
      ]
    },
    {
      "cell_type": "code",
      "source": [
        "change_rows= (df['wv (m/s)']<0)\n",
        "df['wv (m/s)'][change_rows]=0\n",
        "df.describe()"
      ],
      "metadata": {
        "colab": {
          "base_uri": "https://localhost:8080/",
          "height": 381
        },
        "id": "WlwnQ94rUFuS",
        "outputId": "c0253913-7fd7-417a-ab86-dfe1741f1feb"
      },
      "execution_count": null,
      "outputs": [
        {
          "output_type": "execute_result",
          "data": {
            "text/plain": [
              "            p (mbar)       T (degC)         rh (%)   VPmax (mbar)  \\\n",
              "count  420551.000000  420551.000000  420551.000000  420551.000000   \n",
              "mean      989.212776       9.450147      76.008259      13.576251   \n",
              "std         8.358481       8.423365      16.476175       7.739020   \n",
              "min       913.600000     -23.010000      12.950000       0.950000   \n",
              "25%       984.200000       3.360000      65.210000       7.780000   \n",
              "50%       989.580000       9.420000      79.300000      11.820000   \n",
              "75%       994.720000      15.470000      89.400000      17.600000   \n",
              "max      1015.350000      37.280000     100.000000      63.770000   \n",
              "\n",
              "        VPact (mbar)   VPdef (mbar)      sh (g/kg)  H2OC (mmol/mol)  \\\n",
              "count  420551.000000  420551.000000  420551.000000    420551.000000   \n",
              "mean        9.533756       4.042412       6.022408         9.640223   \n",
              "std         4.184164       4.896851       2.656139         4.235395   \n",
              "min         0.790000       0.000000       0.500000         0.800000   \n",
              "25%         6.210000       0.870000       3.920000         6.290000   \n",
              "50%         8.860000       2.190000       5.590000         8.960000   \n",
              "75%        12.350000       5.300000       7.800000        12.490000   \n",
              "max        28.320000      46.010000      18.130000        28.820000   \n",
              "\n",
              "        rho (g/m**3)       wv (m/s)  \n",
              "count  420551.000000  420551.000000  \n",
              "mean     1216.062748       2.130191  \n",
              "std        39.975208       1.542334  \n",
              "min      1059.450000       0.000000  \n",
              "25%      1187.490000       0.990000  \n",
              "50%      1213.790000       1.760000  \n",
              "75%      1242.770000       2.860000  \n",
              "max      1393.540000      28.490000  "
            ],
            "text/html": [
              "\n",
              "  <div id=\"df-bbc7a50f-dab3-402f-b930-0ad3a60ee765\">\n",
              "    <div class=\"colab-df-container\">\n",
              "      <div>\n",
              "<style scoped>\n",
              "    .dataframe tbody tr th:only-of-type {\n",
              "        vertical-align: middle;\n",
              "    }\n",
              "\n",
              "    .dataframe tbody tr th {\n",
              "        vertical-align: top;\n",
              "    }\n",
              "\n",
              "    .dataframe thead th {\n",
              "        text-align: right;\n",
              "    }\n",
              "</style>\n",
              "<table border=\"1\" class=\"dataframe\">\n",
              "  <thead>\n",
              "    <tr style=\"text-align: right;\">\n",
              "      <th></th>\n",
              "      <th>p (mbar)</th>\n",
              "      <th>T (degC)</th>\n",
              "      <th>rh (%)</th>\n",
              "      <th>VPmax (mbar)</th>\n",
              "      <th>VPact (mbar)</th>\n",
              "      <th>VPdef (mbar)</th>\n",
              "      <th>sh (g/kg)</th>\n",
              "      <th>H2OC (mmol/mol)</th>\n",
              "      <th>rho (g/m**3)</th>\n",
              "      <th>wv (m/s)</th>\n",
              "    </tr>\n",
              "  </thead>\n",
              "  <tbody>\n",
              "    <tr>\n",
              "      <th>count</th>\n",
              "      <td>420551.000000</td>\n",
              "      <td>420551.000000</td>\n",
              "      <td>420551.000000</td>\n",
              "      <td>420551.000000</td>\n",
              "      <td>420551.000000</td>\n",
              "      <td>420551.000000</td>\n",
              "      <td>420551.000000</td>\n",
              "      <td>420551.000000</td>\n",
              "      <td>420551.000000</td>\n",
              "      <td>420551.000000</td>\n",
              "    </tr>\n",
              "    <tr>\n",
              "      <th>mean</th>\n",
              "      <td>989.212776</td>\n",
              "      <td>9.450147</td>\n",
              "      <td>76.008259</td>\n",
              "      <td>13.576251</td>\n",
              "      <td>9.533756</td>\n",
              "      <td>4.042412</td>\n",
              "      <td>6.022408</td>\n",
              "      <td>9.640223</td>\n",
              "      <td>1216.062748</td>\n",
              "      <td>2.130191</td>\n",
              "    </tr>\n",
              "    <tr>\n",
              "      <th>std</th>\n",
              "      <td>8.358481</td>\n",
              "      <td>8.423365</td>\n",
              "      <td>16.476175</td>\n",
              "      <td>7.739020</td>\n",
              "      <td>4.184164</td>\n",
              "      <td>4.896851</td>\n",
              "      <td>2.656139</td>\n",
              "      <td>4.235395</td>\n",
              "      <td>39.975208</td>\n",
              "      <td>1.542334</td>\n",
              "    </tr>\n",
              "    <tr>\n",
              "      <th>min</th>\n",
              "      <td>913.600000</td>\n",
              "      <td>-23.010000</td>\n",
              "      <td>12.950000</td>\n",
              "      <td>0.950000</td>\n",
              "      <td>0.790000</td>\n",
              "      <td>0.000000</td>\n",
              "      <td>0.500000</td>\n",
              "      <td>0.800000</td>\n",
              "      <td>1059.450000</td>\n",
              "      <td>0.000000</td>\n",
              "    </tr>\n",
              "    <tr>\n",
              "      <th>25%</th>\n",
              "      <td>984.200000</td>\n",
              "      <td>3.360000</td>\n",
              "      <td>65.210000</td>\n",
              "      <td>7.780000</td>\n",
              "      <td>6.210000</td>\n",
              "      <td>0.870000</td>\n",
              "      <td>3.920000</td>\n",
              "      <td>6.290000</td>\n",
              "      <td>1187.490000</td>\n",
              "      <td>0.990000</td>\n",
              "    </tr>\n",
              "    <tr>\n",
              "      <th>50%</th>\n",
              "      <td>989.580000</td>\n",
              "      <td>9.420000</td>\n",
              "      <td>79.300000</td>\n",
              "      <td>11.820000</td>\n",
              "      <td>8.860000</td>\n",
              "      <td>2.190000</td>\n",
              "      <td>5.590000</td>\n",
              "      <td>8.960000</td>\n",
              "      <td>1213.790000</td>\n",
              "      <td>1.760000</td>\n",
              "    </tr>\n",
              "    <tr>\n",
              "      <th>75%</th>\n",
              "      <td>994.720000</td>\n",
              "      <td>15.470000</td>\n",
              "      <td>89.400000</td>\n",
              "      <td>17.600000</td>\n",
              "      <td>12.350000</td>\n",
              "      <td>5.300000</td>\n",
              "      <td>7.800000</td>\n",
              "      <td>12.490000</td>\n",
              "      <td>1242.770000</td>\n",
              "      <td>2.860000</td>\n",
              "    </tr>\n",
              "    <tr>\n",
              "      <th>max</th>\n",
              "      <td>1015.350000</td>\n",
              "      <td>37.280000</td>\n",
              "      <td>100.000000</td>\n",
              "      <td>63.770000</td>\n",
              "      <td>28.320000</td>\n",
              "      <td>46.010000</td>\n",
              "      <td>18.130000</td>\n",
              "      <td>28.820000</td>\n",
              "      <td>1393.540000</td>\n",
              "      <td>28.490000</td>\n",
              "    </tr>\n",
              "  </tbody>\n",
              "</table>\n",
              "</div>\n",
              "      <button class=\"colab-df-convert\" onclick=\"convertToInteractive('df-bbc7a50f-dab3-402f-b930-0ad3a60ee765')\"\n",
              "              title=\"Convert this dataframe to an interactive table.\"\n",
              "              style=\"display:none;\">\n",
              "        \n",
              "  <svg xmlns=\"http://www.w3.org/2000/svg\" height=\"24px\"viewBox=\"0 0 24 24\"\n",
              "       width=\"24px\">\n",
              "    <path d=\"M0 0h24v24H0V0z\" fill=\"none\"/>\n",
              "    <path d=\"M18.56 5.44l.94 2.06.94-2.06 2.06-.94-2.06-.94-.94-2.06-.94 2.06-2.06.94zm-11 1L8.5 8.5l.94-2.06 2.06-.94-2.06-.94L8.5 2.5l-.94 2.06-2.06.94zm10 10l.94 2.06.94-2.06 2.06-.94-2.06-.94-.94-2.06-.94 2.06-2.06.94z\"/><path d=\"M17.41 7.96l-1.37-1.37c-.4-.4-.92-.59-1.43-.59-.52 0-1.04.2-1.43.59L10.3 9.45l-7.72 7.72c-.78.78-.78 2.05 0 2.83L4 21.41c.39.39.9.59 1.41.59.51 0 1.02-.2 1.41-.59l7.78-7.78 2.81-2.81c.8-.78.8-2.07 0-2.86zM5.41 20L4 18.59l7.72-7.72 1.47 1.35L5.41 20z\"/>\n",
              "  </svg>\n",
              "      </button>\n",
              "      \n",
              "  <style>\n",
              "    .colab-df-container {\n",
              "      display:flex;\n",
              "      flex-wrap:wrap;\n",
              "      gap: 12px;\n",
              "    }\n",
              "\n",
              "    .colab-df-convert {\n",
              "      background-color: #E8F0FE;\n",
              "      border: none;\n",
              "      border-radius: 50%;\n",
              "      cursor: pointer;\n",
              "      display: none;\n",
              "      fill: #1967D2;\n",
              "      height: 32px;\n",
              "      padding: 0 0 0 0;\n",
              "      width: 32px;\n",
              "    }\n",
              "\n",
              "    .colab-df-convert:hover {\n",
              "      background-color: #E2EBFA;\n",
              "      box-shadow: 0px 1px 2px rgba(60, 64, 67, 0.3), 0px 1px 3px 1px rgba(60, 64, 67, 0.15);\n",
              "      fill: #174EA6;\n",
              "    }\n",
              "\n",
              "    [theme=dark] .colab-df-convert {\n",
              "      background-color: #3B4455;\n",
              "      fill: #D2E3FC;\n",
              "    }\n",
              "\n",
              "    [theme=dark] .colab-df-convert:hover {\n",
              "      background-color: #434B5C;\n",
              "      box-shadow: 0px 1px 3px 1px rgba(0, 0, 0, 0.15);\n",
              "      filter: drop-shadow(0px 1px 2px rgba(0, 0, 0, 0.3));\n",
              "      fill: #FFFFFF;\n",
              "    }\n",
              "  </style>\n",
              "\n",
              "      <script>\n",
              "        const buttonEl =\n",
              "          document.querySelector('#df-bbc7a50f-dab3-402f-b930-0ad3a60ee765 button.colab-df-convert');\n",
              "        buttonEl.style.display =\n",
              "          google.colab.kernel.accessAllowed ? 'block' : 'none';\n",
              "\n",
              "        async function convertToInteractive(key) {\n",
              "          const element = document.querySelector('#df-bbc7a50f-dab3-402f-b930-0ad3a60ee765');\n",
              "          const dataTable =\n",
              "            await google.colab.kernel.invokeFunction('convertToInteractive',\n",
              "                                                     [key], {});\n",
              "          if (!dataTable) return;\n",
              "\n",
              "          const docLinkHtml = 'Like what you see? Visit the ' +\n",
              "            '<a target=\"_blank\" href=https://colab.research.google.com/notebooks/data_table.ipynb>data table notebook</a>'\n",
              "            + ' to learn more about interactive tables.';\n",
              "          element.innerHTML = '';\n",
              "          dataTable['output_type'] = 'display_data';\n",
              "          await google.colab.output.renderOutput(dataTable, element);\n",
              "          const docLink = document.createElement('div');\n",
              "          docLink.innerHTML = docLinkHtml;\n",
              "          element.appendChild(docLink);\n",
              "        }\n",
              "      </script>\n",
              "    </div>\n",
              "  </div>\n",
              "  "
            ]
          },
          "metadata": {},
          "execution_count": 130
        }
      ]
    },
    {
      "cell_type": "markdown",
      "source": [
        "# prameters"
      ],
      "metadata": {
        "id": "EXf23mV55-mQ"
      }
    },
    {
      "cell_type": "code",
      "source": [
        "step=6\n",
        "start=12*6+step\n",
        "sequence_length=12\n",
        "length=420000\n",
        "batch_size = 256\n",
        "learning_rate=0.001\n",
        "epochs=10\n",
        "data=df.values"
      ],
      "metadata": {
        "id": "vbKTxNt8Gtw6"
      },
      "execution_count": null,
      "outputs": []
    },
    {
      "cell_type": "markdown",
      "source": [
        "# important functions"
      ],
      "metadata": {
        "id": "fzQdbB3a6GKi"
      }
    },
    {
      "cell_type": "code",
      "source": [
        "#return the normalized values for 3 arrays(train, validation and test) of data\n",
        "def normalize(data,start,length ,train_ratio,val_ratio):\n",
        "\n",
        "  data_mean = data.mean(axis=0)\n",
        "  data_std = data.std(axis=0)\n",
        "  normalized=(data - data_mean) / data_std\n",
        "\n",
        "  normalized_data=normalized[0:length]\n",
        "  labels=normalized[start:start+length,1]\n",
        "\n",
        "  train_split=int(train_ratio*length)\n",
        "  val_split=int(val_ratio*length)\n",
        "\n",
        "  train=normalized_data[:train_split]\n",
        "  val=normalized_data[train_split:val_split+train_split]\n",
        "  test=normalized_data[val_split+train_split:]\n",
        "\n",
        "  train_labels=labels[:train_split]\n",
        "  val_labels=labels[train_split:val_split+train_split]\n",
        "  test_labels=labels[val_split+train_split:]\n",
        "\n",
        "  return train,val,test,train_labels,val_labels,test_labels"
      ],
      "metadata": {
        "id": "qjv4j_gXWRKI"
      },
      "execution_count": null,
      "outputs": []
    },
    {
      "cell_type": "code",
      "source": [
        "def plot_test(dataset_test,model):\n",
        "  for x,y in dataset_test.take(1):\n",
        "    predected=model.predict(x)\n",
        "    time_steps = list(range(y.numpy().shape[0]))\n",
        "    labels=[\"actual\",\"predected\"]\n",
        "    score = model.evaluate(x, y, verbose = 0) \n",
        "    print('loss:', score[0],'   mean absluote error:' , score[1],'   mean square error:' , score[2])\n",
        "    plt.plot(time_steps, y,label=labels[0])\n",
        "    plt.plot(time_steps, predected,label=labels[1])\n",
        "    plt.show()\n"
      ],
      "metadata": {
        "id": "SlDce3fv6TA0"
      },
      "execution_count": null,
      "outputs": []
    },
    {
      "cell_type": "markdown",
      "source": [
        "# prepare data for models"
      ],
      "metadata": {
        "id": "Gwl_22sZ6cG-"
      }
    },
    {
      "cell_type": "code",
      "source": [
        "train,val,test,train_labels,val_labels,test_labels=normalize(data,start,length ,0.6,0.2)"
      ],
      "metadata": {
        "id": "Fn7JJCxkGMyH"
      },
      "execution_count": null,
      "outputs": []
    },
    {
      "cell_type": "code",
      "source": [
        "dataset_train=tf.keras.preprocessing.timeseries_dataset_from_array(\n",
        "    train,\n",
        "    train_labels,\n",
        "    sequence_length=sequence_length,\n",
        "    sampling_rate=step,\n",
        "    batch_size=batch_size\n",
        ")"
      ],
      "metadata": {
        "id": "pcjvo8O8Eb21"
      },
      "execution_count": null,
      "outputs": []
    },
    {
      "cell_type": "code",
      "source": [
        "dataset_val=tf.keras.preprocessing.timeseries_dataset_from_array(\n",
        "    val,\n",
        "    val_labels,\n",
        "    sequence_length=sequence_length,\n",
        "    sampling_rate=step,\n",
        "    batch_size=batch_size\n",
        ")"
      ],
      "metadata": {
        "id": "sX-5ZcdQSDfl"
      },
      "execution_count": null,
      "outputs": []
    },
    {
      "cell_type": "code",
      "source": [
        "length_test=1000\n",
        "dataset_test=tf.keras.preprocessing.timeseries_dataset_from_array(\n",
        "    train,\n",
        "    train_labels,\n",
        "    sequence_length=sequence_length,\n",
        "    sampling_rate=step,\n",
        "    batch_size=length_test\n",
        ")"
      ],
      "metadata": {
        "id": "Za6lTmLt6nhv"
      },
      "execution_count": null,
      "outputs": []
    },
    {
      "cell_type": "markdown",
      "source": [
        "# models "
      ],
      "metadata": {
        "id": "vb1fd_ow6rFv"
      }
    },
    {
      "cell_type": "code",
      "source": [
        "inputs = keras.layers.Input(shape=(sequence_length,train.shape[1]))\n",
        "lstm_out1 = keras.layers.LSTM(32,return_sequences=True)(inputs)\n",
        "lstm_out2 = keras.layers.LSTM(32,return_sequences=True)(lstm_out1)\n",
        "lstm_out3 = keras.layers.LSTM(32)(lstm_out2)\n",
        "outputs = keras.layers.Dense(1)(lstm_out3)\n",
        "model1 = keras.Model(inputs=inputs, outputs=outputs)\n",
        "model1.compile(optimizer=keras.optimizers.Adam(learning_rate=learning_rate), loss=\"mae\",metrics=[tf.keras.metrics.mean_absolute_error,tf.keras.metrics.mean_squared_error])\n",
        "model1.summary()"
      ],
      "metadata": {
        "colab": {
          "base_uri": "https://localhost:8080/"
        },
        "id": "gcBCoJcGQC7J",
        "outputId": "876702d5-4cb1-486e-a253-2ea44ff6e510"
      },
      "execution_count": null,
      "outputs": [
        {
          "output_type": "stream",
          "name": "stdout",
          "text": [
            "Model: \"model_11\"\n",
            "_________________________________________________________________\n",
            " Layer (type)                Output Shape              Param #   \n",
            "=================================================================\n",
            " input_13 (InputLayer)       [(None, 12, 10)]          0         \n",
            "                                                                 \n",
            " lstm_22 (LSTM)              (None, 12, 32)            5504      \n",
            "                                                                 \n",
            " lstm_23 (LSTM)              (None, 12, 32)            8320      \n",
            "                                                                 \n",
            " lstm_24 (LSTM)              (None, 32)                8320      \n",
            "                                                                 \n",
            " dense_11 (Dense)            (None, 1)                 33        \n",
            "                                                                 \n",
            "=================================================================\n",
            "Total params: 22,177\n",
            "Trainable params: 22,177\n",
            "Non-trainable params: 0\n",
            "_________________________________________________________________\n"
          ]
        }
      ]
    },
    {
      "cell_type": "code",
      "source": [
        "history = model1.fit(\n",
        "    dataset_train,\n",
        "    epochs=epochs,\n",
        "    validation_data=dataset_val\n",
        ")"
      ],
      "metadata": {
        "colab": {
          "base_uri": "https://localhost:8080/"
        },
        "id": "Q7wE9Gr3R2LC",
        "outputId": "f7313c71-7c00-4990-b75d-a82965b54ad8"
      },
      "execution_count": null,
      "outputs": [
        {
          "output_type": "stream",
          "name": "stdout",
          "text": [
            "Epoch 1/10\n",
            "985/985 [==============================] - 52s 46ms/step - loss: 0.3132 - mean_absolute_error: 0.3132 - mean_squared_error: 0.1897 - val_loss: 0.2955 - val_mean_absolute_error: 0.2955 - val_mean_squared_error: 0.1351\n",
            "Epoch 2/10\n",
            "985/985 [==============================] - 46s 46ms/step - loss: 0.1690 - mean_absolute_error: 0.1690 - mean_squared_error: 0.0586 - val_loss: 0.1543 - val_mean_absolute_error: 0.1543 - val_mean_squared_error: 0.0409\n",
            "Epoch 3/10\n",
            "985/985 [==============================] - 46s 47ms/step - loss: 0.1303 - mean_absolute_error: 0.1303 - mean_squared_error: 0.0324 - val_loss: 0.1442 - val_mean_absolute_error: 0.1442 - val_mean_squared_error: 0.0358\n",
            "Epoch 4/10\n",
            "985/985 [==============================] - 45s 45ms/step - loss: 0.1225 - mean_absolute_error: 0.1225 - mean_squared_error: 0.0290 - val_loss: 0.1428 - val_mean_absolute_error: 0.1428 - val_mean_squared_error: 0.0343\n",
            "Epoch 5/10\n",
            "985/985 [==============================] - 45s 46ms/step - loss: 0.1176 - mean_absolute_error: 0.1176 - mean_squared_error: 0.0269 - val_loss: 0.1303 - val_mean_absolute_error: 0.1303 - val_mean_squared_error: 0.0303\n",
            "Epoch 6/10\n",
            "985/985 [==============================] - 46s 47ms/step - loss: 0.1142 - mean_absolute_error: 0.1142 - mean_squared_error: 0.0255 - val_loss: 0.1323 - val_mean_absolute_error: 0.1323 - val_mean_squared_error: 0.0306\n",
            "Epoch 7/10\n",
            "985/985 [==============================] - 46s 46ms/step - loss: 0.1132 - mean_absolute_error: 0.1132 - mean_squared_error: 0.0252 - val_loss: 0.1282 - val_mean_absolute_error: 0.1282 - val_mean_squared_error: 0.0291\n",
            "Epoch 8/10\n",
            "985/985 [==============================] - 46s 47ms/step - loss: 0.1112 - mean_absolute_error: 0.1112 - mean_squared_error: 0.0245 - val_loss: 0.1255 - val_mean_absolute_error: 0.1255 - val_mean_squared_error: 0.0283\n",
            "Epoch 9/10\n",
            "985/985 [==============================] - 45s 46ms/step - loss: 0.1102 - mean_absolute_error: 0.1102 - mean_squared_error: 0.0241 - val_loss: 0.1281 - val_mean_absolute_error: 0.1281 - val_mean_squared_error: 0.0290\n",
            "Epoch 10/10\n",
            "985/985 [==============================] - 43s 44ms/step - loss: 0.1096 - mean_absolute_error: 0.1096 - mean_squared_error: 0.0238 - val_loss: 0.1264 - val_mean_absolute_error: 0.1264 - val_mean_squared_error: 0.0286\n"
          ]
        }
      ]
    },
    {
      "cell_type": "code",
      "source": [
        "plot_test(dataset_test,model1)"
      ],
      "metadata": {
        "colab": {
          "base_uri": "https://localhost:8080/",
          "height": 465
        },
        "id": "Tf8uUmNYlo8t",
        "outputId": "ec15e1e7-0936-4877-c0f3-a978d5467203"
      },
      "execution_count": null,
      "outputs": [
        {
          "output_type": "stream",
          "name": "stdout",
          "text": [
            "32/32 [==============================] - 0s 3ms/step\n",
            "loss: 0.3244974911212921    mean absluote error: 0.3244974911212921    mean square error: 0.1626584380865097\n"
          ]
        },
        {
          "output_type": "display_data",
          "data": {
            "text/plain": [
              "<Figure size 640x480 with 1 Axes>"
            ],
            "image/png": "[encoded data removed]"
          },
          "metadata": {}
        }
      ]
    },
    {
      "cell_type": "code",
      "source": [
        "inputs = keras.layers.Input(shape=(sequence_length,train.shape[1]))\n",
        "gru_out1 = keras.layers.GRU(32,return_sequences=True)(inputs)\n",
        "gru_out2 = keras.layers.GRU(32,return_sequences=True)(gru_out1)\n",
        "gru_out3 = keras.layers.GRU(32)(gru_out2)\n",
        "outputs = keras.layers.Dense(1)(gru_out3)\n",
        "\n",
        "model2 = keras.Model(inputs=inputs, outputs=outputs)\n",
        "model2.compile(optimizer=keras.optimizers.Adam(learning_rate=learning_rate), loss=\"mae\",metrics=[tf.keras.metrics.mean_absolute_error,tf.keras.metrics.mean_squared_error])\n",
        "model2.summary()"
      ],
      "metadata": {
        "colab": {
          "base_uri": "https://localhost:8080/"
        },
        "id": "uIn8BvNRxM9Y",
        "outputId": "2d8cbfe8-6d28-4bc4-ab33-c2cc615ad224"
      },
      "execution_count": null,
      "outputs": [
        {
          "output_type": "stream",
          "name": "stdout",
          "text": [
            "Model: \"model_12\"\n",
            "_________________________________________________________________\n",
            " Layer (type)                Output Shape              Param #   \n",
            "=================================================================\n",
            " input_14 (InputLayer)       [(None, 12, 10)]          0         \n",
            "                                                                 \n",
            " gru_6 (GRU)                 (None, 12, 32)            4224      \n",
            "                                                                 \n",
            " gru_7 (GRU)                 (None, 12, 32)            6336      \n",
            "                                                                 \n",
            " gru_8 (GRU)                 (None, 32)                6336      \n",
            "                                                                 \n",
            " dense_12 (Dense)            (None, 1)                 33        \n",
            "                                                                 \n",
            "=================================================================\n",
            "Total params: 16,929\n",
            "Trainable params: 16,929\n",
            "Non-trainable params: 0\n",
            "_________________________________________________________________\n"
          ]
        }
      ]
    },
    {
      "cell_type": "code",
      "source": [
        "history = model2.fit(\n",
        "    dataset_train,\n",
        "    epochs=epochs,\n",
        "    validation_data=dataset_val\n",
        ")"
      ],
      "metadata": {
        "colab": {
          "base_uri": "https://localhost:8080/"
        },
        "id": "sKSQU3pFxU8_",
        "outputId": "064ecd2d-cf63-40d1-a720-7acc8bb36492"
      },
      "execution_count": null,
      "outputs": [
        {
          "metadata": {
            "tags": null
          },
          "name": "stdout",
          "output_type": "stream",
          "text": [
            "Epoch 1/10\n",
            "985/985 [==============================] - 50s 46ms/step - loss: 0.2107 - mean_absolute_error: 0.2107 - mean_squared_error: 0.0928 - val_loss: 0.1705 - val_mean_absolute_error: 0.1705 - val_mean_squared_error: 0.0478\n",
            "Epoch 2/10\n",
            "985/985 [==============================] - 43s 44ms/step - loss: 0.1413 - mean_absolute_error: 0.1413 - mean_squared_error: 0.0386 - val_loss: 0.1295 - val_mean_absolute_error: 0.1295 - val_mean_squared_error: 0.0305\n",
            "Epoch 3/10\n",
            "985/985 [==============================] - 44s 45ms/step - loss: 0.1281 - mean_absolute_error: 0.1281 - mean_squared_error: 0.0314 - val_loss: 0.1340 - val_mean_absolute_error: 0.1340 - val_mean_squared_error: 0.0313\n",
            "Epoch 4/10\n",
            "985/985 [==============================] - 43s 43ms/step - loss: 0.1226 - mean_absolute_error: 0.1226 - mean_squared_error: 0.0291 - val_loss: 0.1269 - val_mean_absolute_error: 0.1269 - val_mean_squared_error: 0.0287\n",
            "Epoch 5/10\n",
            "985/985 [==============================] - 44s 44ms/step - loss: 0.1188 - mean_absolute_error: 0.1188 - mean_squared_error: 0.0274 - val_loss: 0.1220 - val_mean_absolute_error: 0.1220 - val_mean_squared_error: 0.0271\n",
            "Epoch 6/10\n",
            "985/985 [==============================] - 44s 44ms/step - loss: 0.1163 - mean_absolute_error: 0.1163 - mean_squared_error: 0.0263 - val_loss: 0.1199 - val_mean_absolute_error: 0.1199 - val_mean_squared_error: 0.0265\n",
            "Epoch 7/10\n",
            "985/985 [==============================] - 42s 43ms/step - loss: 0.1140 - mean_absolute_error: 0.1140 - mean_squared_error: 0.0254 - val_loss: 0.1179 - val_mean_absolute_error: 0.1179 - val_mean_squared_error: 0.0260\n",
            "Epoch 8/10\n",
            "985/985 [==============================] - 42s 43ms/step - loss: 0.1125 - mean_absolute_error: 0.1125 - mean_squared_error: 0.0248 - val_loss: 0.1168 - val_mean_absolute_error: 0.1168 - val_mean_squared_error: 0.0257\n",
            "Epoch 9/10\n",
            "985/985 [==============================] - 42s 43ms/step - loss: 0.1115 - mean_absolute_error: 0.1115 - mean_squared_error: 0.0244 - val_loss: 0.1152 - val_mean_absolute_error: 0.1152 - val_mean_squared_error: 0.0253\n",
            "Epoch 10/10\n",
            "985/985 [==============================] - 42s 43ms/step - loss: 0.1105 - mean_absolute_error: 0.1105 - mean_squared_error: 0.0240 - val_loss: 0.1157 - val_mean_absolute_error: 0.1157 - val_mean_squared_error: 0.0254\n"
          ]
        }
      ]
    },
    {
      "cell_type": "code",
      "source": [
        "plot_test(dataset_test,model2)"
      ],
      "metadata": {
        "colab": {
          "base_uri": "https://localhost:8080/",
          "height": 465
        },
        "id": "_8kMpexVxaNw",
        "outputId": "7040c071-13c0-423b-f832-88c6bf32b6bd"
      },
      "execution_count": null,
      "outputs": [
        {
          "output_type": "stream",
          "name": "stdout",
          "text": [
            "32/32 [==============================] - 0s 3ms/step\n",
            "loss: 0.25538957118988037    mean absluote error: 0.25538957118988037    mean square error: 0.12161597609519958\n"
          ]
        },
        {
          "output_type": "display_data",
          "data": {
            "text/plain": [
              "<Figure size 640x480 with 1 Axes>"
            ],
            "image/png": "[encoded data removed]"
          },
          "metadata": {}
        }
      ]
    },
    {
      "cell_type": "code",
      "source": [
        "inputs = keras.layers.Input(shape=(sequence_length,train.shape[1]))\n",
        "RNN_out1 = keras.layers.SimpleRNN(32,return_sequences=True)(inputs)\n",
        "RNN_out2 = keras.layers.SimpleRNN(32,return_sequences=True)(RNN_out1)\n",
        "RNN_out3 = keras.layers.SimpleRNN(32)(RNN_out2)\n",
        "outputs = keras.layers.Dense(1)(RNN_out3)\n",
        "\n",
        "model3 = keras.Model(inputs=inputs, outputs=outputs)\n",
        "model3.compile(optimizer=keras.optimizers.Adam(learning_rate=learning_rate), loss=\"mae\",metrics=[tf.keras.metrics.mean_absolute_error,tf.keras.metrics.mean_squared_error])\n",
        "model3.summary()"
      ],
      "metadata": {
        "colab": {
          "base_uri": "https://localhost:8080/"
        },
        "id": "2UNjKdq5xi-r",
        "outputId": "f0cbd0de-24c0-4fdf-fb04-c126f1a1863a"
      },
      "execution_count": null,
      "outputs": [
        {
          "metadata": {
            "tags": null
          },
          "name": "stdout",
          "output_type": "stream",
          "text": [
            "Model: \"model_13\"\n",
            "_________________________________________________________________\n",
            " Layer (type)                Output Shape              Param #   \n",
            "=================================================================\n",
            " input_15 (InputLayer)       [(None, 12, 10)]          0         \n",
            "                                                                 \n",
            " simple_rnn_3 (SimpleRNN)    (None, 12, 32)            1376      \n",
            "                                                                 \n",
            " simple_rnn_4 (SimpleRNN)    (None, 12, 32)            2080      \n",
            "                                                                 \n",
            " simple_rnn_5 (SimpleRNN)    (None, 32)                2080      \n",
            "                                                                 \n",
            " dense_13 (Dense)            (None, 1)                 33        \n",
            "                                                                 \n",
            "=================================================================\n",
            "Total params: 5,569\n",
            "Trainable params: 5,569\n",
            "Non-trainable params: 0\n",
            "_________________________________________________________________\n"
          ]
        }
      ]
    },
    {
      "cell_type": "code",
      "source": [
        "history = model3.fit(\n",
        "    dataset_train,\n",
        "    epochs=epochs,\n",
        "    validation_data=dataset_val\n",
        ")"
      ],
      "metadata": {
        "colab": {
          "base_uri": "https://localhost:8080/"
        },
        "id": "Mp2ZYUgyxyNg",
        "outputId": "cacf149e-3c45-4f07-927d-84e8a730f0b1"
      },
      "execution_count": null,
      "outputs": [
        {
          "output_type": "stream",
          "name": "stdout",
          "text": [
            "Epoch 1/10\n",
            "985/985 [==============================] - 76s 74ms/step - loss: 0.2399 - mean_absolute_error: 0.2399 - mean_squared_error: 0.1141 - val_loss: 0.1681 - val_mean_absolute_error: 0.1681 - val_mean_squared_error: 0.0478\n",
            "Epoch 2/10\n",
            "985/985 [==============================] - 72s 73ms/step - loss: 0.1708 - mean_absolute_error: 0.1708 - mean_squared_error: 0.0537 - val_loss: 0.1491 - val_mean_absolute_error: 0.1491 - val_mean_squared_error: 0.0386\n",
            "Epoch 3/10\n",
            "985/985 [==============================] - 75s 76ms/step - loss: 0.1488 - mean_absolute_error: 0.1488 - mean_squared_error: 0.0403 - val_loss: 0.1290 - val_mean_absolute_error: 0.1290 - val_mean_squared_error: 0.0295\n",
            "Epoch 4/10\n",
            "985/985 [==============================] - 75s 77ms/step - loss: 0.1373 - mean_absolute_error: 0.1373 - mean_squared_error: 0.0347 - val_loss: 0.1190 - val_mean_absolute_error: 0.1190 - val_mean_squared_error: 0.0264\n",
            "Epoch 5/10\n",
            "985/985 [==============================] - 76s 77ms/step - loss: 0.1315 - mean_absolute_error: 0.1315 - mean_squared_error: 0.0319 - val_loss: 0.1245 - val_mean_absolute_error: 0.1245 - val_mean_squared_error: 0.0273\n",
            "Epoch 6/10\n",
            "985/985 [==============================] - 76s 77ms/step - loss: 0.1306 - mean_absolute_error: 0.1306 - mean_squared_error: 0.0313 - val_loss: 0.1265 - val_mean_absolute_error: 0.1265 - val_mean_squared_error: 0.0294\n",
            "Epoch 7/10\n",
            "985/985 [==============================] - 75s 76ms/step - loss: 0.1390 - mean_absolute_error: 0.1390 - mean_squared_error: 0.0379 - val_loss: 0.1502 - val_mean_absolute_error: 0.1502 - val_mean_squared_error: 0.0371\n",
            "Epoch 8/10\n",
            "985/985 [==============================] - 75s 76ms/step - loss: 0.1297 - mean_absolute_error: 0.1297 - mean_squared_error: 0.0314 - val_loss: 0.1247 - val_mean_absolute_error: 0.1247 - val_mean_squared_error: 0.0286\n",
            "Epoch 9/10\n",
            "985/985 [==============================] - 75s 76ms/step - loss: 0.1381 - mean_absolute_error: 0.1381 - mean_squared_error: 0.0386 - val_loss: 0.1368 - val_mean_absolute_error: 0.1368 - val_mean_squared_error: 0.0322\n",
            "Epoch 10/10\n",
            "985/985 [==============================] - 76s 77ms/step - loss: 0.1341 - mean_absolute_error: 0.1341 - mean_squared_error: 0.0343 - val_loss: 0.1366 - val_mean_absolute_error: 0.1366 - val_mean_squared_error: 0.0315\n"
          ]
        }
      ]
    },
    {
      "cell_type": "code",
      "source": [
        "plot_test(dataset_test,model3)"
      ],
      "metadata": {
        "colab": {
          "base_uri": "https://localhost:8080/",
          "height": 465
        },
        "id": "AlWzBPgrx1b1",
        "outputId": "b43d0a69-2453-4bab-e887-ecc856968278"
      },
      "execution_count": null,
      "outputs": [
        {
          "output_type": "stream",
          "name": "stdout",
          "text": [
            "32/32 [==============================] - 0s 11ms/step\n",
            "loss: 0.2594945728778839    mean absluote error: 0.2594945728778839    mean square error: 0.11187565326690674\n"
          ]
        },
        {
          "output_type": "display_data",
          "data": {
            "text/plain": [
              "<Figure size 640x480 with 1 Axes>"
            ],
            "image/png": "[encoded data removed]"
          },
          "metadata": {}
        }
      ]
    },
    {
      "cell_type": "markdown",
      "source": [
        "# Comment\n",
        "LSTM: loss:  0.324   mean absluote error: 0.324   mean square error: 0.162\n",
        "\n",
        "GRU: loss:   0.255   mean absluote error: 0.255   mean square error: 0.121\n",
        "\n",
        "RNN: loss:   0.259   mean absluote error: 0.259   mean square error: 0.111\n",
        "\n",
        "the best model is the GRU model and then the RNN and the worest is the LSTM \n",
        "## note: all models have the same build and the same parameters  \n"
      ],
      "metadata": {
        "id": "wPk8gXK9HhbK"
      }
    }
  ]
}